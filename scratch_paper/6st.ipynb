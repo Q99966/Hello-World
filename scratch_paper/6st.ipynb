{
 "cells": [
  {
   "cell_type": "code",
   "execution_count": 5,
   "metadata": {},
   "outputs": [
    {
     "name": "stdout",
     "output_type": "stream",
     "text": [
      "\n",
      "this is one\n",
      "\n",
      "this is three\n",
      "\n",
      "this is four\n"
     ]
    }
   ],
   "source": [
    "m_list=[1,3,4]\n",
    "for m in m_list:\n",
    "    if m==1:\n",
    "        print('\\nthis is one')\n",
    "    if m==2:\n",
    "        print('\\nthis is two')\n",
    "    if m==3:\n",
    "        print('\\nthis is three')\n",
    "    if m==4:\n",
    "        print('\\nthis is four')\n",
    "    if m==5:\n",
    "        print('\\nthis is five')            \n"
   ]
  },
  {
   "cell_type": "code",
   "execution_count": 6,
   "metadata": {},
   "outputs": [
    {
     "name": "stdout",
     "output_type": "stream",
     "text": [
      "1\n"
     ]
    }
   ],
   "source": [
    "m_list={}\n",
    "if m_list:\n",
    "    print(0)\n",
    "else:\n",
    "    print(1)   \n"
   ]
  },
  {
   "cell_type": "code",
   "execution_count": 12,
   "metadata": {},
   "outputs": [
    {
     "name": "stdout",
     "output_type": "stream",
     "text": [
      "Chen\n",
      "Zhihan\n",
      "19\n",
      "Henan province\n"
     ]
    }
   ],
   "source": [
    "Chen_Zhihan={'first_name':'Chen','last_name':'Zhihan','age':19,'city':'Henan province'}\n",
    "print(Chen_Zhihan['first_name'])\n",
    "print(Chen_Zhihan['last_name'])\n",
    "print(Chen_Zhihan['age'])\n",
    "print(Chen_Zhihan['city'])"
   ]
  },
  {
   "cell_type": "code",
   "execution_count": 8,
   "metadata": {},
   "outputs": [
    {
     "name": "stdout",
     "output_type": "stream",
     "text": [
      "1\n",
      "<class 'int'>\n",
      "first\n",
      "<class 'int'>\n",
      "2\n",
      "<class 'int'>\n",
      "second\n",
      "<class 'int'>\n",
      "6\n",
      "<class 'int'>\n",
      "sixth\n",
      "<class 'int'>\n",
      "11\n",
      "<class 'int'>\n",
      "\n",
      "FIRST\n",
      "<class 'int'>\n",
      "\n",
      "SECOND\n",
      "<class 'int'>\n",
      "\n",
      "SIXTH\n",
      "<class 'int'>\n"
     ]
    }
   ],
   "source": [
    "like_number={'1':'first','2':'second','6':'sixth'}\n",
    "n=0                                              #赋值n\n",
    "for number in like_number.keys():\n",
    "    print(number)                                 #输出键\n",
    "    print(type(_))\n",
    "    print(like_number[number])                    #输出值 \n",
    "    n=n+eval(number)                             #字符串转换为数字         \n",
    "    print(type(_))\n",
    "print(n+2)                               \n",
    "print(type(_))    \n",
    "for number in like_number.values():\n",
    "    print(f'\\n{number.upper()}')          #输出值\n",
    "    print(type(_))\n",
    "\n"
   ]
  },
  {
   "cell_type": "code",
   "execution_count": 9,
   "metadata": {},
   "outputs": [
    {
     "name": "stdout",
     "output_type": "stream",
     "text": [
      "{'color': 'green', 'points': 5}\n",
      "\n",
      "{'color': 'green', 'points': 5}\n",
      "\n",
      "{'color': 'green', 'points': 5}\n",
      "\n",
      "{'color': 'green', 'points': 5}\n",
      "\n",
      "{'color': 'green', 'points': 5}\n",
      "\n",
      "{'color': 'green', 'points': 5}\n",
      "\n",
      "{'color': 'green', 'points': 5}\n",
      "\n",
      "{'color': 'green', 'points': 5}\n",
      "\n",
      "{'color': 'green', 'points': 5}\n",
      "\n",
      "{'color': 'green', 'points': 5}\n",
      "\n",
      "{'color': 'yellow', 'points': 10}\n",
      "{'color': 'yellow', 'points': 10}\n",
      "{'color': 'yellow', 'points': 10}\n",
      "{'color': 'yellow', 'points': 10}\n",
      "{'color': 'yellow', 'points': 10}\n",
      "{'color': 'red', 'points': 15}\n",
      "{'color': 'red', 'points': 15}\n",
      "{'color': 'red', 'points': 15}\n",
      "{'color': 'red', 'points': 15}\n",
      "{'color': 'red', 'points': 15}\n"
     ]
    }
   ],
   "source": [
    "m_list=[]\n",
    "for i in range(30):\n",
    "    new_alien={'color':'green','points':5}\n",
    "    m_list.append(new_alien)                      #30个外星人\n",
    "for m in m_list[:10]:\n",
    "    print(m,end='\\n\\n')                           #输出前10个外星人信息\n",
    "for m in m_list[10:16]:\n",
    "    if m['color']=='green':                   \n",
    "        m['color']='yellow'\n",
    "        m['points']=10                           \n",
    "    elif m['color']=='yellow':\n",
    "        m['color']=='red'\n",
    "        m['points']==15                          #部分外星人升级\n",
    "for m in m_list[5:15]:\n",
    "    if m['color']=='green':\n",
    "        m['color']='yellow'\n",
    "        m['points']=10\n",
    "    elif m['color']=='yellow':\n",
    "        m['color']='red'\n",
    "        m['points']=15                            #部分外星人再次升级\n",
    "    print(m)                                       \n",
    "\n",
    "\n",
    "        \n",
    "\n",
    "\n",
    "\n"
   ]
  },
  {
   "cell_type": "code",
   "execution_count": 10,
   "metadata": {},
   "outputs": [
    {
     "name": "stdout",
     "output_type": "stream",
     "text": [
      "message_aliens_0:\n",
      "{'alien_speed': 'slow', 'alien_color': {'head': 'green', 'body': 'yellow', 'foot': 'red'}, 'alien_v': {'direction': 'north', 'size': 5}}\n",
      "message_aliens_1:\n",
      "{'alien_speed': 'slow', 'alien_color': {'head': 'green', 'body': 'yellow', 'foot': 'red'}, 'alien_v': {'direction': 'north', 'size': 5}}\n",
      "message_aliens_2:\n",
      "{'alien_speed': 'slow', 'alien_color': {'head': 'green', 'body': 'yellow', 'foot': 'red'}, 'alien_v': {'direction': 'north', 'size': 5}}\n",
      "message_aliens_3:\n",
      "{'alien_speed': 'slow', 'alien_color': {'head': 'green', 'body': 'yellow', 'foot': 'red'}, 'alien_v': {'direction': 'north', 'size': 5}}\n",
      "message_aliens_4:\n",
      "{'alien_speed': 'slow', 'alien_color': {'head': 'green', 'body': 'yellow', 'foot': 'red'}, 'alien_v': {'direction': 'north', 'size': 5}}\n",
      "message_aliens_5:\n",
      "{'alien_speed': 'slow', 'alien_color': {'head': 'green', 'body': 'yellow', 'foot': 'red'}, 'alien_v': {'direction': 'north', 'size': 5}}\n",
      "message_aliens_6:\n",
      "{'alien_speed': 'slow', 'alien_color': {'head': 'green', 'body': 'yellow', 'foot': 'red'}, 'alien_v': {'direction': 'north', 'size': 5}}\n",
      "message_aliens_7:\n",
      "{'alien_speed': 'slow', 'alien_color': {'head': 'green', 'body': 'yellow', 'foot': 'red'}, 'alien_v': {'direction': 'north', 'size': 5}}\n",
      "message_aliens_8:\n",
      "{'alien_speed': 'slow', 'alien_color': {'head': 'green', 'body': 'yellow', 'foot': 'red'}, 'alien_v': {'direction': 'north', 'size': 5}}\n",
      "message_aliens_9:\n",
      "{'alien_speed': 'slow', 'alien_color': {'head': 'green', 'body': 'yellow', 'foot': 'red'}, 'alien_v': {'direction': 'north', 'size': 5}}\n",
      "message_aliens_10:\n",
      "{'alien_speed': 'slow', 'alien_color': {'head': 'green', 'body': 'yellow', 'foot': 'red'}, 'alien_v': {'direction': 'north', 'size': 5}}\n",
      "message_aliens_11:\n",
      "{'alien_speed': 'slow', 'alien_color': {'head': 'green', 'body': 'yellow', 'foot': 'red'}, 'alien_v': {'direction': 'north', 'size': 5}}\n",
      "message_aliens_12:\n",
      "{'alien_speed': 'slow', 'alien_color': {'head': 'green', 'body': 'yellow', 'foot': 'red'}, 'alien_v': {'direction': 'north', 'size': 5}}\n",
      "message_aliens_13:\n",
      "{'alien_speed': 'slow', 'alien_color': {'head': 'green', 'body': 'yellow', 'foot': 'red'}, 'alien_v': {'direction': 'north', 'size': 5}}\n",
      "message_aliens_14:\n",
      "{'alien_speed': 'slow', 'alien_color': {'head': 'green', 'body': 'yellow', 'foot': 'red'}, 'alien_v': {'direction': 'north', 'size': 5}}\n",
      "message_aliens_15:\n",
      "{'alien_speed': 'slow', 'alien_color': {'head': 'green', 'body': 'yellow', 'foot': 'red'}, 'alien_v': {'direction': 'north', 'size': 5}}\n",
      "message_aliens_16:\n",
      "{'alien_speed': 'slow', 'alien_color': {'head': 'green', 'body': 'yellow', 'foot': 'red'}, 'alien_v': {'direction': 'north', 'size': 5}}\n",
      "message_aliens_17:\n",
      "{'alien_speed': 'slow', 'alien_color': {'head': 'green', 'body': 'yellow', 'foot': 'red'}, 'alien_v': {'direction': 'north', 'size': 5}}\n",
      "message_aliens_18:\n",
      "{'alien_speed': 'slow', 'alien_color': {'head': 'green', 'body': 'yellow', 'foot': 'red'}, 'alien_v': {'direction': 'north', 'size': 5}}\n",
      "message_aliens_19:\n",
      "{'alien_speed': 'slow', 'alien_color': {'head': 'green', 'body': 'yellow', 'foot': 'red'}, 'alien_v': {'direction': 'north', 'size': 5}}\n",
      "message_aliens_20:\n",
      "{'alien_speed': 'slow', 'alien_color': {'head': 'green', 'body': 'yellow', 'foot': 'red'}, 'alien_v': {'direction': 'north', 'size': 5}}\n",
      "message_aliens_21:\n",
      "{'alien_speed': 'slow', 'alien_color': {'head': 'green', 'body': 'yellow', 'foot': 'red'}, 'alien_v': {'direction': 'north', 'size': 5}}\n",
      "message_aliens_22:\n",
      "{'alien_speed': 'slow', 'alien_color': {'head': 'green', 'body': 'yellow', 'foot': 'red'}, 'alien_v': {'direction': 'north', 'size': 5}}\n",
      "message_aliens_23:\n",
      "{'alien_speed': 'slow', 'alien_color': {'head': 'green', 'body': 'yellow', 'foot': 'red'}, 'alien_v': {'direction': 'north', 'size': 5}}\n",
      "message_aliens_24:\n",
      "{'alien_speed': 'slow', 'alien_color': {'head': 'green', 'body': 'yellow', 'foot': 'red'}, 'alien_v': {'direction': 'north', 'size': 5}}\n",
      "message_aliens_25:\n",
      "{'alien_speed': 'slow', 'alien_color': {'head': 'green', 'body': 'yellow', 'foot': 'red'}, 'alien_v': {'direction': 'north', 'size': 5}}\n",
      "message_aliens_26:\n",
      "{'alien_speed': 'slow', 'alien_color': {'head': 'green', 'body': 'yellow', 'foot': 'red'}, 'alien_v': {'direction': 'north', 'size': 5}}\n",
      "message_aliens_27:\n",
      "{'alien_speed': 'slow', 'alien_color': {'head': 'green', 'body': 'yellow', 'foot': 'red'}, 'alien_v': {'direction': 'north', 'size': 5}}\n",
      "message_aliens_28:\n",
      "{'alien_speed': 'slow', 'alien_color': {'head': 'green', 'body': 'yellow', 'foot': 'red'}, 'alien_v': {'direction': 'north', 'size': 5}}\n",
      "message_aliens_29:\n",
      "{'alien_speed': 'slow', 'alien_color': {'head': 'green', 'body': 'yellow', 'foot': 'red'}, 'alien_v': {'direction': 'north', 'size': 5}}\n"
     ]
    }
   ],
   "source": [
    "message_aliens_list={}\n",
    "for i in range(30):\n",
    "    message_aliens_list[f'message_aliens_{i}']={}\n",
    "    n={}\n",
    "    n['alien_speed']='slow'\n",
    "    k={}\n",
    "    k['head']='green'\n",
    "    k['body']='yellow'\n",
    "    k['foot']='red'\n",
    "    n['alien_color']=k\n",
    "    w={}\n",
    "    w['direction']='north'\n",
    "    w['size']=5\n",
    "    n['alien_v']=w\n",
    "    message_aliens_list[f'message_aliens_{i}']=n\n",
    "for m in message_aliens_list.keys():\n",
    "    val=message_aliens_list[m]\n",
    "    print(f'{m}:')\n",
    "    print(val)\n",
    "\n",
    "    \n",
    "\n",
    "            \n",
    "\n",
    "\n",
    "\n",
    "\n"
   ]
  },
  {
   "cell_type": "code",
   "execution_count": 11,
   "metadata": {},
   "outputs": [],
   "source": [
    "for i in range(30):\n",
    "        message_aliens_list[f'message_aliens_{i}']['alien_color']={}\n",
    "        message_aliens_list[f'message_aliens_{i}']['alien_v']={}\n",
    "        message_aliens_list[f'message_aliens_{i}']['alien_speed']='slow'\n",
    "        for i in range(30):\n",
    "            message_aliens_list[f'message_aliens_{i}']['alien_color']['head']='green'\n",
    "            message_aliens_list[f'message_aliens_{i}']['alien_color']['body']='yellow'\n",
    "            message_aliens_list[f'message_aliens_{i}']['alien_color']['foot']='red'\n",
    "            message_aliens_list[f'message_aliens_{i}']['alien_v']['direction']='north'\n",
    "            message_aliens_list[f'message_aliens_{i}']['alien_v']['size']=5"
   ]
  },
  {
   "cell_type": "code",
   "execution_count": 15,
   "metadata": {},
   "outputs": [],
   "source": [
    "eval(input(''))"
   ]
  }
 ],
 "metadata": {
  "kernelspec": {
   "display_name": "Python 3",
   "language": "python",
   "name": "python3"
  },
  "language_info": {
   "codemirror_mode": {
    "name": "ipython",
    "version": 3
   },
   "file_extension": ".py",
   "mimetype": "text/x-python",
   "name": "python",
   "nbconvert_exporter": "python",
   "pygments_lexer": "ipython3",
   "version": "3.12.0"
  }
 },
 "nbformat": 4,
 "nbformat_minor": 2
}
